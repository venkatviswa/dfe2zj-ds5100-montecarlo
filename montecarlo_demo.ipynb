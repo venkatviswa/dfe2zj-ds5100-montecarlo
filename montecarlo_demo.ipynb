{
 "cells": [
  {
   "cell_type": "markdown",
   "id": "45762487-d33f-486d-8e38-2cdea04e3528",
   "metadata": {},
   "source": [
    "# Final Project Report\n",
    "\n",
    "* Class: DS 5100\n",
    "* Student Name: Venkat Viswanathan\n",
    "* Student Net ID: dfe2zj\n",
    "* This URL:https://github.com/venkatviswa/dfe2zj-ds5100-montecarlo/blob/master/montecarlo_demo.ipynb"
   ]
  },
  {
   "cell_type": "markdown",
   "id": "acf756c1-ecaa-41dc-b6ca-d566eb94560b",
   "metadata": {},
   "source": [
    "# Instructions\n",
    "\n",
    "Follow the instructions in the [Final Project](https://ontoligent.github.io/DS5100-2023-07-R/notebooks/M00_FinalProject/FinalProjectInstructions.html) isntructions and put your work in this notebook.\n",
    "\n",
    "Total points for each subsection under **Deliverables** and **Scenarios** are given in parentheses.\n",
    "\n",
    "Breakdowns of points within subsections are specified within subsection instructions as bulleted lists.\n",
    "\n",
    "This project is worth **50 points**."
   ]
  },
  {
   "cell_type": "markdown",
   "id": "89dc7a32-f682-4402-8c1e-b6ccdb3e0e39",
   "metadata": {},
   "source": [
    "# Deliverables"
   ]
  },
  {
   "cell_type": "markdown",
   "id": "d32cb273-9a40-4909-a7ce-51f6e4958d3c",
   "metadata": {},
   "source": [
    "## The Monte Carlo Module (10)\n",
    "\n",
    "- URL included, appropriately named (1).\n",
    "- Includes all three specified classes (3).\n",
    "- Includes at least all 12 specified methods (6; .5 each)."
   ]
  },
  {
   "cell_type": "markdown",
   "id": "f5f3b070-de9e-4de9-bfae-8974d184aa28",
   "metadata": {},
   "source": [
    "Put the URL to your GitHub repo here.\n",
    "\n",
    "Repo URL:\n",
    "https://github.com/venkatviswa/dfe2zj-ds5100-montecarlo"
   ]
  },
  {
   "cell_type": "markdown",
   "id": "162370fb-3729-4c85-b040-8c25b2c966d2",
   "metadata": {},
   "source": [
    "Paste a copyy of your module here.\n",
    "\n",
    "NOTE: Paste as text, not as code. Use triple backticks to wrap your code blocks."
   ]
  },
  {
   "cell_type": "code",
   "execution_count": 7,
   "id": "a0743efc-a785-4b5c-a9e6-b65d4507a67f",
   "metadata": {},
   "outputs": [],
   "source": [
    "```\n",
    "import numpy as np\n",
    "import pandas as pd\n",
    "from itertools import combinations_with_replacement,groupby,permutations\n",
    "\n",
    "\n",
    "class Die:\n",
    "    '''Die has N sides or faces and W weights and can be rolled to select a face. Die with N = 2 is a coin and N = 6 is a standard die.\n",
    "    Each dice has same number of sides and faces but can have its own weights. Each side has an equal number of weights.Each side has an unique symbol.\n",
    "    Weight defaults to 1 for each side but can be changed afterr initialization. Die has one behavior which is to be rolled one or more times\n",
    "    '''\n",
    "\n",
    "    def __init__(self, faces):\n",
    "        ''' initializer that takes a list of faces as input'''\n",
    "        if not isinstance(faces, np.ndarray):\n",
    "            raise TypeError('faces must be a numpy array')\n",
    "        #print(faces.dtype)\n",
    "        if faces.dtype == 'int64' or '<U' in faces.dtype.str:\n",
    "            self.faces = faces\n",
    "        else:\n",
    "            raise TypeError('Data type of array must be integer or string')\n",
    "\n",
    "       # if len(self.faces) != len(np.unique(self.faces)):\n",
    "        #    raise ValueError('faces must have unique values')\n",
    "        self.weights = [1.0 for i in faces]\n",
    "        self.df = pd.DataFrame(data=self.weights, index=self.faces, columns=['weights'])\n",
    "\n",
    "    def change_weights(self, face, new_weight):\n",
    "        ''' method to change weights of one face to another\n",
    "            Output : Method does not return anything\n",
    "        '''\n",
    "        if face not in self.faces:\n",
    "            raise IndexError('face does not exist')\n",
    "        try:\n",
    "            self.df.loc[face, 'weights'] = float(new_weight)\n",
    "        except ValueError:\n",
    "            raise TypeError('new_weight must be a float')\n",
    "        return None\n",
    "\n",
    "    def roll_die(self, times=1):\n",
    "        '''method to roll the dice n number of times and returns a list of outcomes\n",
    "        Output : Returns list of outcomes in list format '''\n",
    "        #print(list(self.df.sample(n=times,weights=self.weights,replace=True)))\n",
    "        outcomeList = self.df.sample(n=times, weights=self.weights, replace=True).index.tolist()\n",
    "        #print('after rolling dice')\n",
    "        #print(outcomeList)\n",
    "        return outcomeList\n",
    "\n",
    "    def current_state(self):\n",
    "        ''' returns the current state of the die'''\n",
    "        return self.df\n",
    "\n",
    "\n",
    "class Game:\n",
    "    ''' Represents a Game which consists of rolling one or more dice one or more times. Each die should have the same\n",
    "     number of sides and faces but each die can have its own weights.'''\n",
    "\n",
    "    def __init__(self, diceList):\n",
    "        ''' initalizes a game by a list of dice '''\n",
    "        if (len(diceList) == 0):\n",
    "            raise ValueError('Atleast one or more dice must be specified')\n",
    "        self.diceList = diceList\n",
    "\n",
    "    '''-   The data frame should be in wide format, i.e. have the roll number\n",
    "as a named index, columns for each die number (using its list index\n",
    "as the column name), and the face rolled in that instance in each\n",
    "cell.'''\n",
    "\n",
    "    def play(self, numtimes):\n",
    "        ''' takes an integer that indicates how many times dice should be rolled\n",
    "            Output : does not return any value\n",
    "        '''\n",
    "        columns = ['die' + str(i + 1) for i in range(len(self.diceList))]\n",
    "        #print(columns)\n",
    "        self.playdf = pd.DataFrame(columns=columns, index=[], data=[])\n",
    "        self.playdf.index.name = 'rollnumber'\n",
    "        #print(self.diceList)\n",
    "        for dieindex, die in enumerate(self.diceList):\n",
    "            #print('die number ' + str(dieindex + 1))\n",
    "            #print(die.current_state())\n",
    "            #print(die.roll_die(numtimes))\n",
    "            outcomelist = die.roll_die(numtimes)\n",
    "            #print(outcomelist)\n",
    "            for rollindex, outcome in enumerate(outcomelist):\n",
    "                #print('roll' + str(rollindex + 1), 'die' + str(dieindex + 1), outcome)\n",
    "                self.playdf.loc['roll' + str(rollindex + 1), 'die' + str(dieindex + 1)] = outcome\n",
    "        return None\n",
    "    def show_game_result(self, format='wide'):\n",
    "        \"\"\"This method just returns a copy of the private play data frame to the user.\n",
    "           Takes a parameter to return the data frame in narrow or wide form which defaults to wide form.\n",
    "           The narrow form will have a MultiIndex, comprising the roll number and the die number (in that order),\n",
    "           and a single column with the outcomes (i.e. the face rolled).\n",
    "          This method should raise a ValueError if the user passes an invalid option for narrow or wide\n",
    "          Output : Returns two types of dataframes based on need ( wide or narrow)\n",
    "        \"\"\"\n",
    "\n",
    "        if format == 'wide':\n",
    "            return self.playdf\n",
    "        elif format == 'narrow':\n",
    "            narrowdf = self.playdf.copy()\n",
    "            narrowdf = self.playdf.stack().to_frame('val')\n",
    "            return narrowdf\n",
    "        else:\n",
    "            raise ValueError('format must be either wide or narrow')\n",
    "\n",
    "\n",
    "class Analyzer:\n",
    "    ''' An Analyzer object takes the results of a single game and computes\n",
    "various descriptive statistical properties about it.'''\n",
    "\n",
    "    def all_equal(self,iterable):\n",
    "        g = groupby(iterable)\n",
    "        return next(g, True) and not next(g, False)\n",
    "\n",
    "    def __init__(self, game):\n",
    "        ''' initializes the Analyzer by passing a Game that was played recently to do analysis'''\n",
    "        self.game = game\n",
    "        if not isinstance(game, Game):\n",
    "            raise ValueError('Not a game object')\n",
    "\n",
    "    def jackpot(self):\n",
    "        \"\"\"A jackpot is a result in which all faces are the same, e.g. all ones\n",
    "            for a six-sided die.Computes how many times the game resulted in a jackpot.\n",
    "            Output :Returns an integer for the number of jackpots.\n",
    "        \"\"\"\n",
    "\n",
    "        gamedf = self.game.show_game_result(format='wide')\n",
    "        jackpotCount=0\n",
    "        #print('printing row by row')\n",
    "        for  row in gamedf.values.tolist():\n",
    "            #print(row)\n",
    "            if self.all_equal(iter(row)):\n",
    "                #print('jackpot row ' + str(row))\n",
    "                jackpotCount+=1\n",
    "            #else:\n",
    "                #print('non jackpot row ' + str(row))\n",
    "        return jackpotCount\n",
    "\n",
    "    def face_count_per_roll(self):\n",
    "        '''Computes how many times a given face is rolled in each event.\n",
    "           For example, if a roll of five dice has all sixes, then the counts for this roll would be   for the face value ‘6’ and   for the other faces.\n",
    "           Returns a data frame of results.\n",
    "           The data frame has an index of the roll number, face values as columns, and count values in the cells (i.e. it is in wide format)..\n",
    "           Output : Returns a data frame of results.\n",
    "        '''\n",
    "        df2=self.game.show_game_result(format='narrow')\n",
    "        #print('resetting index')\n",
    "        df2.reset_index()\n",
    "        #print('resetting index done')\n",
    "        #print(df2.groupby(\"rollnumber\").count())\n",
    "        return df2.pivot_table(index=\"rollnumber\",columns=\"val\",aggfunc='size',fill_value=0)\n",
    "        #return self.game.show_game_result('narrow').reset_index().set_index(\"rollnumber\").pivot_table(values=\"rollnumber\",columns=[\"val\"],aggfunc=np.sum)\n",
    "\n",
    "    def combo_count(self):\n",
    "        '''A combo count method.\n",
    "            Computes the distinct combinations of faces rolled, along with their counts.\n",
    "            Combinations are order-independent and may contain repetitions.\n",
    "            Returns a data frame of results.\n",
    "            The data frame should have an MultiIndex of distinct combinations and a column for the associated counts.\n",
    "            Output : Returns a data frame of results.\n",
    "        '''\n",
    "        combo_copy = self.game.show_game_result().copy()\n",
    "        #print(combo_copy)\n",
    "        #print(combo_copy.values.tolist())\n",
    "        combinations=combinations_with_replacement(combo_copy.values.tolist(),1)\n",
    "        resultdf=pd.DataFrame(columns=['Combination','Count'],data=[])\n",
    "        for combo in combinations:\n",
    "            #print(combo[0])\n",
    "            values_series = pd.Series(combo[0], index=combo_copy.columns)\n",
    "            mask = combo_copy.apply(lambda row: all(row == values_series), axis=1)\n",
    "            row_values_count = mask.sum()\n",
    "            resultdf.loc[len(resultdf.index)]= {'Combination':combo[0],'Count':row_values_count}\n",
    "        return resultdf\n",
    "\n",
    "    def permutation_count(self):\n",
    "        '''An permutation count method.\n",
    "            Computes the distinct permutations of faces rolled, along with their counts.\n",
    "            Permutations are order-dependent and may contain repetitions.\n",
    "            Returns a data frame of results.\n",
    "            The data frame should have an MultiIndex of distinct permutations and a column for the associated counts\n",
    "            Output : Returns a data frame of results.\n",
    "        '''\n",
    "        perm_copy = self.game.show_game_result().copy()\n",
    "        gameresult=self.game.show_game_result()\n",
    "        gameresultkeys=gameresult.columns.tolist()\n",
    "        resultdf = pd.DataFrame(self.game.show_game_result().value_counts(gameresultkeys).sort_index())\n",
    "        return resultdf\n",
    "\n",
    "\n",
    "if __name__ == \"__main__\":\n",
    "\n",
    "    #dieArray = np.array(['head', 'tail'])\n",
    "\n",
    "    dieArray = np.array([1,2,3,4,5,6])\n",
    "    die1 = Die(dieArray)\n",
    "    #print(die1.roll_die(3))\n",
    "    #die1.change_weights('head', 2)\n",
    "    die1.change_weights(6, 5)\n",
    "    #print(die1.roll_die(3))\n",
    "    #print(die1.roll_die(3))\n",
    "    die2 = Die(dieArray)\n",
    "    die2.change_weights(6, 5)\n",
    "    die3 = Die(dieArray)\n",
    "    die3.change_weights(6, 5)\n",
    "    list = [die1, die2, die3]\n",
    "    print(\"Game starting with 3 dices and 10 rounds\")\n",
    "    g = Game(list)\n",
    "    g.play(10)\n",
    "    print(\"result in wide format\")\n",
    "    print(g.show_game_result(format='wide'))\n",
    "\n",
    "    print(\"Result in narrow format\")\n",
    "    print(g.show_game_result(format='narrow'))\n",
    "\n",
    "    analyzer = Analyzer(g)\n",
    "    print(\"checking for jackpots\")\n",
    "    print(analyzer.jackpot())\n",
    "    print(\"checking for face counts per roll\")\n",
    "    print(analyzer.face_count_per_roll())\n",
    "    print(\"checking unique combinations\")\n",
    "    print(analyzer.combo_count())\n",
    "    print(\"checking Permutations\")\n",
    "    print(analyzer.permutation_count())\n",
    "```"
   ]
  },
  {
   "cell_type": "markdown",
   "id": "6377727a-8f0a-491e-9f1c-d9dc225edd35",
   "metadata": {},
   "source": [
    "## Unitest Module (2)\n",
    "\n",
    "Paste a copy of your test module below.\n",
    "\n",
    "NOTE: Paste as text, not as code. Use triple backticks to wrap your code blocks.\n",
    "\n",
    "- All methods have at least one test method (1).\n",
    "- Each method employs one of Unittest's Assert methods (1)."
   ]
  },
  {
   "cell_type": "code",
   "execution_count": 9,
   "id": "14b878d8-258b-4cf2-ad88-b8ee90d43977",
   "metadata": {},
   "outputs": [],
   "source": [
    "```\n",
    "import unittest\n",
    "import numpy as np\n",
    "import pandas as pd\n",
    "\n",
    "from Montecarlo.montecarlo import Die, Game, Analyzer\n",
    "\n",
    "\n",
    "class DieTestCase(unittest.TestCase):\n",
    "\n",
    "    def test_init(self):\n",
    "        die=Die(np.array([1,2,3,4,5,6]))\n",
    "        self.assertTrue(len(die.faces)==6)\n",
    "    def test_change_weights(self):\n",
    "        die = Die(np.array([1,2,3,4,5,6]))\n",
    "        die.change_weights(3,0.5)\n",
    "        self.assertTrue(die.current_state().loc[3,'weights']==0.5)\n",
    "    def test_roll_die(self):\n",
    "        die = Die(np.array([1, 2, 3, 4, 5, 6]))\n",
    "        outcome=die.roll_die(3)\n",
    "        self.assertTrue(len(outcome)==3)\n",
    "    def test_current_state(self):\n",
    "        die = Die(np.array([1, 2, 3, 4, 5, 6]))\n",
    "        self.assertTrue(die.current_state is not None)\n",
    "\n",
    "class GameTestCase(unittest.TestCase):\n",
    "    def setUp(self):\n",
    "        dieArray = np.array([1, 2, 3, 4, 5, 6])\n",
    "        die1 = Die(dieArray)\n",
    "        die1.change_weights(6, 5)\n",
    "        die2 = Die(dieArray)\n",
    "        die2.change_weights(6, 5)\n",
    "        die3 = Die(dieArray)\n",
    "        die3.change_weights(6, 5)\n",
    "        self.list = [die1, die2, die3]\n",
    "        self.g = Game(self.list)\n",
    "\n",
    "    def test_init(self):\n",
    "        dieArray = np.array([1, 2, 3, 4, 5, 6])\n",
    "        die1 = Die(dieArray)\n",
    "        die1.change_weights(6, 5)\n",
    "        die2 = Die(dieArray)\n",
    "        die2.change_weights(6, 5)\n",
    "        die3 = Die(dieArray)\n",
    "        die3.change_weights(6, 5)\n",
    "        list = [die1, die2, die3]\n",
    "        self.g = Game(self.list)\n",
    "        self.assertEqual(len(self.g.diceList),len(list))\n",
    "\n",
    "    def test_play(self):\n",
    "        self.g.play(5)\n",
    "        self.assertTrue(len(self.g.playdf.values.tolist())==5)\n",
    "\n",
    "    def test_show_game_result(self):\n",
    "        self.g.play(5)\n",
    "        gamedef=self.g.show_game_result(format='wide')\n",
    "        num_rows, num_cols = gamedef.shape\n",
    "        self.assertEqual(num_rows, 5)\n",
    "        self.assertEqual(num_cols, 3)\n",
    "\n",
    "class AnalyzerTestCase(unittest.TestCase):\n",
    "    def setUp(self):\n",
    "        dieArray = np.array([1, 2, 3, 4, 5, 6])\n",
    "        die1 = Die(dieArray)\n",
    "        die1.change_weights(6, 5)\n",
    "        die2 = Die(dieArray)\n",
    "        die2.change_weights(6, 5)\n",
    "        die3 = Die(dieArray)\n",
    "        die3.change_weights(6, 5)\n",
    "        list = [die1, die2, die3]\n",
    "        self.g = Game(list)\n",
    "        self.g.play(10)\n",
    "\n",
    "    def test_init(self):\n",
    "        analyzer = Analyzer(self.g)\n",
    "        self.assertIsNotNone(analyzer.game)\n",
    "    def test_jackpot(self):\n",
    "        analyzer = Analyzer(self.g)\n",
    "        jackpotCount=analyzer.jackpot()\n",
    "        self.assertTrue(jackpotCount>=0)\n",
    "\n",
    "    def test_face_count_per_roll(self):\n",
    "        analyzer = Analyzer(self.g)\n",
    "        resultdf=analyzer.face_count_per_roll()\n",
    "        num_rows, num_cols = resultdf.shape\n",
    "        self.assertEqual(num_rows, 10)\n",
    "        self.assertEqual(num_cols, 6)\n",
    "\n",
    "    def test_combo_count(self):\n",
    "        analyzer = Analyzer(self.g)\n",
    "        resultdf=analyzer.combo_count()\n",
    "        num_rows, num_cols = resultdf.shape\n",
    "        self.assertEqual(num_rows, 10)\n",
    "        self.assertEqual(num_cols, 2)\n",
    "\n",
    "    def test_permutation_count(self):\n",
    "        analyzer = Analyzer(self.g)\n",
    "        resultdf=analyzer.permutation_count()\n",
    "        self.assertIsNotNone(resultdf)\n",
    "\n",
    "\n",
    "\n",
    "if __name__ == '__main__':\n",
    "    unittest.main()\n",
    "\n",
    "```"
   ]
  },
  {
   "cell_type": "markdown",
   "id": "3e058d03-29bc-408f-b36d-0605b4f4b8c0",
   "metadata": {
    "tags": []
   },
   "source": [
    "## Unittest Results (3)\n",
    "\n",
    "Put a copy of the results of running your tests from the command line here.\n",
    "\n",
    "Again, paste as text using triple backticks.\n",
    "\n",
    "- All 12 specified methods return OK (3; .25 each)."
   ]
  },
  {
   "cell_type": "raw",
   "id": "54691fd0-836c-43c7-adc9-4a09d8aa9ab2",
   "metadata": {
    "tags": []
   },
   "source": [
    "Testing started at 1:13 AM ...\n",
    "Launching pytest with arguments /Users/venkat.viswanathan/UVA/DS5100/Project/FinalProject/tests/montecarlo_test.py --no-header --no-summary -q in /Users/venkat.viswanathan/UVA/DS5100/Project/FinalProject/tests\n",
    "\n",
    "============================= test session starts ==============================\n",
    "collecting ... collected 12 items\n",
    "\n",
    "montecarlo_test.py::DieTestCase::test_change_weights PASSED              [  8%]\n",
    "montecarlo_test.py::DieTestCase::test_current_state PASSED               [ 16%]\n",
    "montecarlo_test.py::DieTestCase::test_init PASSED                        [ 25%]\n",
    "montecarlo_test.py::DieTestCase::test_roll_die PASSED                    [ 33%]\n",
    "montecarlo_test.py::GameTestCase::test_init PASSED                       [ 41%]\n",
    "montecarlo_test.py::GameTestCase::test_play PASSED                       [ 50%]\n",
    "montecarlo_test.py::GameTestCase::test_show_game_result PASSED           [ 58%]\n",
    "montecarlo_test.py::AnalyzerTestCase::test_combo_count PASSED            [ 66%]\n",
    "montecarlo_test.py::AnalyzerTestCase::test_face_count_per_roll PASSED    [ 75%]\n",
    "montecarlo_test.py::AnalyzerTestCase::test_init PASSED                   [ 83%]\n",
    "montecarlo_test.py::AnalyzerTestCase::test_jackpot PASSED                [ 91%]\n",
    "montecarlo_test.py::AnalyzerTestCase::test_permutation_count PASSED      [100%]\n",
    "\n",
    "============================== 12 passed in 0.21s =============================="
   ]
  },
  {
   "cell_type": "markdown",
   "id": "d9ffe8c5-eb2f-4ad1-af76-a46550e4c7ac",
   "metadata": {},
   "source": [
    "## Import (1)\n",
    "\n",
    "Import your module here. This import should refer to the code in your package directory.\n",
    "\n",
    "- Module successuflly imported (1)."
   ]
  },
  {
   "cell_type": "code",
   "execution_count": 100,
   "id": "a05dffb3-e6d6-4f78-9df4-5abd0cf74ca9",
   "metadata": {
    "tags": []
   },
   "outputs": [],
   "source": [
    "import Montecarlo.montecarlo as montecarlo"
   ]
  },
  {
   "cell_type": "markdown",
   "id": "f30c4842-65b1-4556-98b6-3fe1a07e1371",
   "metadata": {},
   "source": [
    "## Help Docs (4)\n",
    "\n",
    "Show your docstring documentation by applying `help()` to your imported module.\n",
    "\n",
    "- All methods have a docstring (3; .25 each).\n",
    "- All classes have a docstring (1; .33 each)."
   ]
  },
  {
   "cell_type": "code",
   "execution_count": 102,
   "id": "bf4fbf1f-9885-471c-a0a6-e9ca90e160de",
   "metadata": {
    "tags": []
   },
   "outputs": [
    {
     "name": "stdout",
     "output_type": "stream",
     "text": [
      "Help on module Montecarlo.montecarlo in Montecarlo:\n",
      "\n",
      "NAME\n",
      "    Montecarlo.montecarlo\n",
      "\n",
      "CLASSES\n",
      "    builtins.object\n",
      "        Analyzer\n",
      "        Die\n",
      "        Game\n",
      "    \n",
      "    class Analyzer(builtins.object)\n",
      "     |  Analyzer(game)\n",
      "     |  \n",
      "     |  An Analyzer object takes the results of a single game and computes\n",
      "     |  various descriptive statistical properties about it.\n",
      "     |  \n",
      "     |  Methods defined here:\n",
      "     |  \n",
      "     |  __init__(self, game)\n",
      "     |      Initialize self.  See help(type(self)) for accurate signature.\n",
      "     |  \n",
      "     |  all_equal(self, iterable)\n",
      "     |  \n",
      "     |  combo_count(self)\n",
      "     |      A combo count method.\n",
      "     |      Computes the distinct combinations of faces rolled, along with their counts.\n",
      "     |      Combinations are order-independent and may contain repetitions.\n",
      "     |      Returns a data frame of results.\n",
      "     |      The data frame should have an MultiIndex of distinct combinations and a column for the associated counts.\n",
      "     |  \n",
      "     |  face_count_per_roll(self)\n",
      "     |      Computes how many times a given face is rolled in each event.\n",
      "     |      For example, if a roll of five dice has all sixes, then the counts for this roll would be   for the face value ‘6’ and   for the other faces.\n",
      "     |      Returns a data frame of results.\n",
      "     |      The data frame has an index of the roll number, face values as columns, and count values in the cells (i.e. it is in wide format)..\n",
      "     |  \n",
      "     |  jackpot(self)\n",
      "     |      A jackpot is a result in which all faces are the same, e.g. all ones\n",
      "     |      for a six-sided die.Computes how many times the game resulted in a jackpot.\n",
      "     |      Returns an integer for the number of jackpots.\n",
      "     |  \n",
      "     |  permutation_count(self)\n",
      "     |      An permutation count method.\n",
      "     |      Computes the distinct permutations of faces rolled, along with their counts.\n",
      "     |      Permutations are order-dependent and may contain repetitions.\n",
      "     |      Returns a data frame of results.\n",
      "     |      The data frame should have an MultiIndex of distinct permutations and a column for the associated counts\n",
      "     |  \n",
      "     |  ----------------------------------------------------------------------\n",
      "     |  Data descriptors defined here:\n",
      "     |  \n",
      "     |  __dict__\n",
      "     |      dictionary for instance variables (if defined)\n",
      "     |  \n",
      "     |  __weakref__\n",
      "     |      list of weak references to the object (if defined)\n",
      "    \n",
      "    class Die(builtins.object)\n",
      "     |  Die(faces)\n",
      "     |  \n",
      "     |  Die has N sides or faces and W weights and can be rolled to select a face. Die with N = 2 is a coin and N = 6 is a standard die.\n",
      "     |  Each dice has same number of sides and faces but can have its own weights. Each side has an equal number of weights.Each side has an unique symbol.\n",
      "     |  Weight defaults to 1 for each side but can be changed afterr initialization. Die has one behavior which is to be rolled one or more times\n",
      "     |  \n",
      "     |  Methods defined here:\n",
      "     |  \n",
      "     |  __init__(self, faces)\n",
      "     |      initializer that takes a list of faces as input\n",
      "     |  \n",
      "     |  __str__(self)\n",
      "     |      Return str(self).\n",
      "     |  \n",
      "     |  change_weights(self, face, new_weight)\n",
      "     |      method to change weights of one face to another\n",
      "     |  \n",
      "     |  current_state(self)\n",
      "     |      returns the current state of the die\n",
      "     |  \n",
      "     |  roll_die(self, times=1)\n",
      "     |      method to roll the dice n number of times and returns a list of outcomes\n",
      "     |  \n",
      "     |  ----------------------------------------------------------------------\n",
      "     |  Data descriptors defined here:\n",
      "     |  \n",
      "     |  __dict__\n",
      "     |      dictionary for instance variables (if defined)\n",
      "     |  \n",
      "     |  __weakref__\n",
      "     |      list of weak references to the object (if defined)\n",
      "    \n",
      "    class Game(builtins.object)\n",
      "     |  Game(diceList)\n",
      "     |  \n",
      "     |  Represents a Game which consists of rolling one or more dice one or more times. Each die should have the same\n",
      "     |  number of sides and faces but each die can have its own weights.\n",
      "     |  \n",
      "     |  Methods defined here:\n",
      "     |  \n",
      "     |  __init__(self, diceList)\n",
      "     |      initalizes a game by a list of dice\n",
      "     |  \n",
      "     |  play(self, numtimes)\n",
      "     |      takes an integer that indicates how many times dice should be rolled\n",
      "     |  \n",
      "     |  show_game_result(self, format='wide')\n",
      "     |      This method just returns a copy of the private play data frame to the user.\n",
      "     |       Takes a parameter to return the data frame in narrow or wide form which defaults to wide form.\n",
      "     |       The narrow form will have a MultiIndex, comprising the roll number and the die number (in that order),\n",
      "     |       and a single column with the outcomes (i.e. the face rolled).\n",
      "     |      This method should raise a ValueError if the user passes an invalid option for narrow or wide\n",
      "     |  \n",
      "     |  ----------------------------------------------------------------------\n",
      "     |  Data descriptors defined here:\n",
      "     |  \n",
      "     |  __dict__\n",
      "     |      dictionary for instance variables (if defined)\n",
      "     |  \n",
      "     |  __weakref__\n",
      "     |      list of weak references to the object (if defined)\n",
      "\n",
      "FILE\n",
      "    /Users/venkat.viswanathan/UVA/DS5100/Project/FinalProject/Montecarlo/montecarlo.py\n",
      "\n",
      "\n"
     ]
    }
   ],
   "source": [
    "help(montecarlo)"
   ]
  },
  {
   "cell_type": "markdown",
   "id": "a9defa84-b395-4966-bd1c-5c6c2bb7ed68",
   "metadata": {},
   "source": [
    "## `README.md` File (3)\n",
    "\n",
    "Provide link to the README.md file of your project's repo.\n",
    "\n",
    "- Metadata section or info present (1).\n",
    "- Synopsis section showing how each class is called (1). (All must be included.)\n",
    "- API section listing all classes and methods (1). (All must be included.)"
   ]
  },
  {
   "cell_type": "markdown",
   "id": "ee090b33-d593-48a0-bf35-e739cea0942c",
   "metadata": {},
   "source": [
    "URL:https://github.com/venkatviswa/dfe2zj-ds5100-montecarlo/blob/master/README.md"
   ]
  },
  {
   "cell_type": "markdown",
   "id": "108604c8-8827-42ef-ab59-6b25428fc0ca",
   "metadata": {},
   "source": [
    "## Successful installation (2)\n",
    "\n",
    "Put a screenshot or paste a copy of a terminal session where you successfully install your module with pip.\n",
    "\n",
    "If pasting text, use a preformatted text block to show the results.\n",
    "\n",
    "- Installed with `pip` (1).\n",
    "- Successfully installed message appears (1)."
   ]
  },
  {
   "cell_type": "raw",
   "id": "1278db6a-aa53-4e5c-a749-93a87ab239e0",
   "metadata": {},
   "source": [
    "Processing /Users/venkat.viswanathan/UVA/DS5100/Project/FinalProject\n",
    "  Preparing metadata (setup.py) ... done\n",
    "Building wheels for collected packages: montecarloapp\n",
    "  Building wheel for montecarloapp (setup.py) ... done\n",
    "  Created wheel for montecarloapp: filename=montecarloapp-1.0-py3-none-any.whl size=5253 sha256=11654a58f23478aa0aed5b57452abcb3a1963d6fb63452350f726c2f31b1e696\n",
    "  Stored in directory: /private/var/folders/81/h3zyw17j7mnfws767l66fgt40000gp/T/pip-ephem-wheel-cache-2sdhdd56/wheels/d5/6a/47/b4bfda1b1c78ec1706d100a663a111a3060fa61e8f265a783a\n",
    "Successfully built montecarloapp\n",
    "Installing collected packages: montecarloapp\n",
    "Successfully installed montecarloapp-1.0"
   ]
  },
  {
   "cell_type": "markdown",
   "id": "7c44695d-d1b3-4edf-9f94-e64d7446f199",
   "metadata": {},
   "source": [
    "# Scenarios\n",
    "\n",
    "Use code blocks to perform the tasks for each scenario.\n",
    "\n",
    "Be sure the outputs are visible before submitting."
   ]
  },
  {
   "cell_type": "code",
   "execution_count": 104,
   "id": "7e68fd02-fcd6-44b6-a34e-9f0e2dbf2fbc",
   "metadata": {
    "tags": []
   },
   "outputs": [],
   "source": [
    "from Montecarlo.montecarlo import Die, Game, Analyzer\n",
    "import numpy as np\n",
    "import pandas as pd"
   ]
  },
  {
   "cell_type": "markdown",
   "id": "e2479eae-6fc9-44cd-b8d7-9b22cb501f2a",
   "metadata": {
    "tags": []
   },
   "source": [
    "## Scenario 1: A 2-headed Coin (9)\n",
    "\n",
    "Task 1. Create a fair coin (with faces $H$ and $T$) and one unfair coin in which one of the faces has a weight of $5$ and the others $1$.\n",
    "\n",
    "- Fair coin created (1).\n",
    "- Unfair coin created with weight as specified (1)."
   ]
  },
  {
   "cell_type": "code",
   "execution_count": 106,
   "id": "55ce498e-c75f-4425-9e3e-b635bd6cd9e1",
   "metadata": {},
   "outputs": [
    {
     "data": {
      "text/html": [
       "<div>\n",
       "<style scoped>\n",
       "    .dataframe tbody tr th:only-of-type {\n",
       "        vertical-align: middle;\n",
       "    }\n",
       "\n",
       "    .dataframe tbody tr th {\n",
       "        vertical-align: top;\n",
       "    }\n",
       "\n",
       "    .dataframe thead th {\n",
       "        text-align: right;\n",
       "    }\n",
       "</style>\n",
       "<table border=\"1\" class=\"dataframe\">\n",
       "  <thead>\n",
       "    <tr style=\"text-align: right;\">\n",
       "      <th></th>\n",
       "      <th>weights</th>\n",
       "    </tr>\n",
       "  </thead>\n",
       "  <tbody>\n",
       "    <tr>\n",
       "      <th>H</th>\n",
       "      <td>1.0</td>\n",
       "    </tr>\n",
       "    <tr>\n",
       "      <th>T</th>\n",
       "      <td>1.0</td>\n",
       "    </tr>\n",
       "  </tbody>\n",
       "</table>\n",
       "</div>"
      ],
      "text/plain": [
       "   weights\n",
       "H      1.0\n",
       "T      1.0"
      ]
     },
     "execution_count": 106,
     "metadata": {},
     "output_type": "execute_result"
    }
   ],
   "source": [
    "arr=np.array(['H','T'])\n",
    "coin1=Die(arr)\n",
    "coin2=Die(arr)\n",
    "coin2.change_weights('H',5)\n",
    "coin2.change_weights('T',1)\n",
    "coin1.current_state()"
   ]
  },
  {
   "cell_type": "markdown",
   "id": "02b272ab-99da-4b6e-ac2a-555b73e09c07",
   "metadata": {},
   "source": [
    "Task 2. Play a game of $1000$ flips with two fair dice.\n",
    "\n",
    "- Play method called correclty and without error (1)."
   ]
  },
  {
   "cell_type": "code",
   "execution_count": 108,
   "id": "65c92601-d32d-4326-b215-74953aee27f2",
   "metadata": {},
   "outputs": [],
   "source": [
    "list=[coin1,coin2]\n",
    "g1=Game(list)\n",
    "g1.play(1000)\n",
    "#g1.show_game_result(format='wide')"
   ]
  },
  {
   "cell_type": "markdown",
   "id": "7d9c3dc8-22c1-4cae-81fb-d68d774a05d1",
   "metadata": {},
   "source": [
    "Task 3. Play another game (using a new Game object) of $1000$ flips, this time using two unfair dice and one fair die. For the second unfair die, you can use the same die object twice in the list of dice you pass to the Game object.\n",
    "\n",
    "- New game object created (1).\n",
    "- Play method called correclty and without error (1)."
   ]
  },
  {
   "cell_type": "code",
   "execution_count": 110,
   "id": "d4098bed-1eb2-4084-8d5e-9fda07c3be43",
   "metadata": {},
   "outputs": [],
   "source": [
    "list=[coin1,coin2,coin2]\n",
    "g2=Game(list)\n",
    "g2.play(1000)\n",
    "#g2.show_game_result(format='wide')"
   ]
  },
  {
   "cell_type": "markdown",
   "id": "f690ebfc-fe71-4eb2-976d-7ac80ca6c23f",
   "metadata": {},
   "source": [
    "Task 4. For each game, use an Analyzer object to determine the raw frequency of jackpots — i.e. getting either all $H$s or all $T$s.\n",
    "\n",
    "- Analyzer objecs instantiated for both games (1).\n",
    "- Raw frequencies reported for both (1)."
   ]
  },
  {
   "cell_type": "code",
   "execution_count": 112,
   "id": "b26b8b7e-3be7-4476-a9a4-37d97536729e",
   "metadata": {},
   "outputs": [
    {
     "name": "stdout",
     "output_type": "stream",
     "text": [
      "489 245\n"
     ]
    }
   ],
   "source": [
    "analyzer1=Analyzer(g1)\n",
    "analyzer2=Analyzer(g2)\n",
    "print(analyzer1.jackpot(),analyzer2.jackpot())\n"
   ]
  },
  {
   "cell_type": "markdown",
   "id": "b73d233c-445e-40cd-8858-0c5e1f097105",
   "metadata": {},
   "source": [
    "Task 5. For each analyzer, compute relative frequency as the number of jackpots over the total number of rolls.\n",
    "\n",
    "- Both relative frequencies computed (1)."
   ]
  },
  {
   "cell_type": "code",
   "execution_count": 116,
   "id": "9a96b31b-1b9d-496e-be3e-4bf83c45ec3a",
   "metadata": {},
   "outputs": [
    {
     "name": "stdout",
     "output_type": "stream",
     "text": [
      "0.489 0.245\n"
     ]
    }
   ],
   "source": [
    "totalRolls=1000\n",
    "rFreq1=analyzer1.jackpot()/totalRolls\n",
    "rFreq2=analyzer2.jackpot()/totalRolls\n",
    "print(rFreq1,rFreq2)"
   ]
  },
  {
   "cell_type": "markdown",
   "id": "a6e1e734-7f5c-4721-8ba4-2f3a424cf984",
   "metadata": {},
   "source": [
    "Task 6. Show your results, comparing the two relative frequencies, in a simple bar chart.\n",
    "\n",
    "- Bar chart plotted and correct (1)."
   ]
  },
  {
   "cell_type": "code",
   "execution_count": 118,
   "id": "473fa67c-aa53-4aa3-a0b7-e8772b3f6ed3",
   "metadata": {},
   "outputs": [
    {
     "data": {
      "image/png": "[encoded data removed]",
      "text/plain": [
       "<Figure size 640x480 with 1 Axes>"
      ]
     },
     "metadata": {},
     "output_type": "display_data"
    }
   ],
   "source": [
    "import matplotlib.pyplot as plot\n",
    "\n",
    "\n",
    "total_rolls = 1000\n",
    "relative_frequency1 = 0.47\n",
    "relative_frequency2 = 0.256\n",
    "\n",
    "\n",
    "labels = ['Game', 'Game2']\n",
    "\n",
    "\n",
    "heights = [relative_frequency1, relative_frequency2]\n",
    "\n",
    "\n",
    "plot.bar(labels, heights, color=['blue', 'green'])\n",
    "\n",
    "\n",
    "plot.title('Coin Games vs Jackpot Relative Frequency')\n",
    "plot.xlabel('Games')\n",
    "plot.ylabel('Jackpot Relative Frequency')\n",
    "\n",
    "\n",
    "plot.show()\n"
   ]
  },
  {
   "cell_type": "markdown",
   "id": "725cfa5b-e4b7-47c9-86aa-8d9e1fe6c8c7",
   "metadata": {},
   "source": [
    "## Scenario 2: A 6-sided Die (9)\n",
    "\n",
    "Task 1. Create three dice, each with six sides having the faces 1 through 6.\n",
    "\n",
    "- Three die objects created (1)."
   ]
  },
  {
   "cell_type": "code",
   "execution_count": 120,
   "id": "6a8bc611-325a-4e05-88d5-980e0a2cf7c5",
   "metadata": {},
   "outputs": [],
   "source": [
    "arr=np.array([1,2,3,4,5,6])\n",
    "die1=die2=die3=Die(arr)"
   ]
  },
  {
   "cell_type": "markdown",
   "id": "2ed3ad26-fbe9-43bd-9ad7-f683a4191d12",
   "metadata": {},
   "source": [
    "Task 2. Convert one of the dice to an unfair one by weighting the face $6$ five times more than the other weights (i.e. it has weight of 5 and the others a weight of 1 each).\n",
    "\n",
    "- Unfair die created with proper call to weight change method (1)."
   ]
  },
  {
   "cell_type": "code",
   "execution_count": 122,
   "id": "e33dd18f-7f90-456d-a680-61c08a328e21",
   "metadata": {},
   "outputs": [],
   "source": [
    "die3.change_weights(6,5)"
   ]
  },
  {
   "cell_type": "markdown",
   "id": "7f6c062a-4c5b-45b9-96b8-76a0354c7e47",
   "metadata": {},
   "source": [
    "Task 3. Convert another of the dice to be unfair by weighting the face $1$ five times more than the others.\n",
    "\n",
    "- Unfair die created with proper call to weight change method (1)."
   ]
  },
  {
   "cell_type": "code",
   "execution_count": 124,
   "id": "01133a4e-6b06-4246-8d90-8e6d6995be51",
   "metadata": {},
   "outputs": [],
   "source": [
    "die2.change_weights(1,5)"
   ]
  },
  {
   "cell_type": "markdown",
   "id": "f0ed31cb-0a3c-4eb2-b85e-6ed6b2eb6e58",
   "metadata": {},
   "source": [
    "Task 4. Play a game of $10000$ rolls with $5$ fair dice.\n",
    "\n",
    "- Game class properly instantiated (1). \n",
    "- Play method called properly (1)."
   ]
  },
  {
   "cell_type": "code",
   "execution_count": 126,
   "id": "e92395a4-9ed8-4cb0-8c85-38768a784ffc",
   "metadata": {},
   "outputs": [],
   "source": [
    "list=[die1,die1,die1,die1,die1]\n",
    "g3=Game(list)\n",
    "g3.play(10000)\n",
    "#g3.show_game_result(format='wide')"
   ]
  },
  {
   "cell_type": "markdown",
   "id": "7814b402-46a4-40e5-8141-20e05c3e646b",
   "metadata": {},
   "source": [
    "Task 5. Play another game of $10000$ rolls, this time with $2$ unfair dice, one as defined in steps #2 and #3 respectively, and $3$ fair dice.\n",
    "\n",
    "- Game class properly instantiated (1). \n",
    "- Play method called properly (1)."
   ]
  },
  {
   "cell_type": "code",
   "execution_count": 128,
   "id": "7cd58fba-b2a5-4d5d-bc6d-2a7a68d18c4f",
   "metadata": {},
   "outputs": [],
   "source": [
    "list=[die2,die3,die1,die1,die1]\n",
    "g4=Game(list)\n",
    "g4.play(10000)\n",
    "#g4.show_game_result(format='wide')"
   ]
  },
  {
   "cell_type": "markdown",
   "id": "7b6cd372-2bb8-4df8-ade1-8f48bc300955",
   "metadata": {},
   "source": [
    "Task 6. For each game, use an Analyzer object to determine the relative frequency of jackpots and show your results, comparing the two relative frequencies, in a simple bar chart.\n",
    "\n",
    "- Jackpot methods called (1).\n",
    "- Graph produced (1)."
   ]
  },
  {
   "cell_type": "code",
   "execution_count": 130,
   "id": "bbdcf695-8937-406e-9b53-aa0b9ee3c59a",
   "metadata": {},
   "outputs": [
    {
     "name": "stdout",
     "output_type": "stream",
     "text": [
      "6 7\n",
      "0.0006 0.0007\n"
     ]
    },
    {
     "data": {
      "image/png": "[encoded data removed]",
      "text/plain": [
       "<Figure size 640x480 with 1 Axes>"
      ]
     },
     "metadata": {},
     "output_type": "display_data"
    }
   ],
   "source": [
    "analyzer3=Analyzer(g3)\n",
    "analyzer4=Analyzer(g4)\n",
    "print(analyzer3.jackpot(),analyzer4.jackpot())\n",
    "totalRolls=10000\n",
    "rFreq3=analyzer3.jackpot()/totalRolls\n",
    "rFreq4=analyzer4.jackpot()/totalRolls\n",
    "print(rFreq3,rFreq4)\n",
    "\n",
    "\n",
    "labels = ['Game3', 'Game4']\n",
    "\n",
    "\n",
    "heights = [rFreq3,rFreq4]\n",
    "\n",
    "\n",
    "plot.bar(labels, heights, color=['blue', 'green'])\n",
    "\n",
    "\n",
    "plot.title('Die Games vs Jackpot Relative Frequency')\n",
    "plot.xlabel('Die Games')\n",
    "plot.ylabel('Jackpot Relative Frequency')\n",
    "\n",
    "\n",
    "plot.show()"
   ]
  },
  {
   "cell_type": "markdown",
   "id": "9f04e9be-8fcf-4ea4-a391-6614608285f8",
   "metadata": {},
   "source": [
    "## Scenario 3: Letters of the Alphabet (7)\n",
    "\n",
    "Task 1. Create a \"die\" of letters from $A$ to $Z$ with weights based on their frequency of usage as found in the data file `english_letters.txt`. Use the frequencies (i.e. raw counts) as weights.\n",
    "\n",
    "- Die correctly instantiated with source file data (1).\n",
    "- Weights properly applied using weight setting method (1)."
   ]
  },
  {
   "cell_type": "code",
   "execution_count": 132,
   "id": "3c1fd0d0-834d-4f76-bacf-9d6c4bebe769",
   "metadata": {
    "tags": []
   },
   "outputs": [
    {
     "data": {
      "text/plain": [
       "1    int64\n",
       "dtype: object"
      ]
     },
     "execution_count": 132,
     "metadata": {},
     "output_type": "execute_result"
    }
   ],
   "source": [
    "alphadf=pd.read_csv('./english_letters.txt',skipinitialspace=True,header=None)\n",
    "alphadf=alphadf.set_index(alphadf.columns[0])\n",
    "alphadf.dtypes\n"
   ]
  },
  {
   "cell_type": "code",
   "execution_count": 134,
   "id": "0276fc32-7676-452a-ba40-c3d4c1e4ffcb",
   "metadata": {
    "tags": []
   },
   "outputs": [
    {
     "data": {
      "text/html": [
       "<div>\n",
       "<style scoped>\n",
       "    .dataframe tbody tr th:only-of-type {\n",
       "        vertical-align: middle;\n",
       "    }\n",
       "\n",
       "    .dataframe tbody tr th {\n",
       "        vertical-align: top;\n",
       "    }\n",
       "\n",
       "    .dataframe thead th {\n",
       "        text-align: right;\n",
       "    }\n",
       "</style>\n",
       "<table border=\"1\" class=\"dataframe\">\n",
       "  <thead>\n",
       "    <tr style=\"text-align: right;\">\n",
       "      <th></th>\n",
       "      <th>weights</th>\n",
       "    </tr>\n",
       "  </thead>\n",
       "  <tbody>\n",
       "    <tr>\n",
       "      <th>A</th>\n",
       "      <td>1.0</td>\n",
       "    </tr>\n",
       "    <tr>\n",
       "      <th>B</th>\n",
       "      <td>1.0</td>\n",
       "    </tr>\n",
       "    <tr>\n",
       "      <th>C</th>\n",
       "      <td>1.0</td>\n",
       "    </tr>\n",
       "    <tr>\n",
       "      <th>D</th>\n",
       "      <td>1.0</td>\n",
       "    </tr>\n",
       "    <tr>\n",
       "      <th>E</th>\n",
       "      <td>1.0</td>\n",
       "    </tr>\n",
       "    <tr>\n",
       "      <th>F</th>\n",
       "      <td>1.0</td>\n",
       "    </tr>\n",
       "    <tr>\n",
       "      <th>G</th>\n",
       "      <td>1.0</td>\n",
       "    </tr>\n",
       "    <tr>\n",
       "      <th>H</th>\n",
       "      <td>1.0</td>\n",
       "    </tr>\n",
       "    <tr>\n",
       "      <th>I</th>\n",
       "      <td>1.0</td>\n",
       "    </tr>\n",
       "    <tr>\n",
       "      <th>J</th>\n",
       "      <td>1.0</td>\n",
       "    </tr>\n",
       "    <tr>\n",
       "      <th>K</th>\n",
       "      <td>1.0</td>\n",
       "    </tr>\n",
       "    <tr>\n",
       "      <th>L</th>\n",
       "      <td>1.0</td>\n",
       "    </tr>\n",
       "    <tr>\n",
       "      <th>M</th>\n",
       "      <td>1.0</td>\n",
       "    </tr>\n",
       "    <tr>\n",
       "      <th>N</th>\n",
       "      <td>1.0</td>\n",
       "    </tr>\n",
       "    <tr>\n",
       "      <th>O</th>\n",
       "      <td>1.0</td>\n",
       "    </tr>\n",
       "    <tr>\n",
       "      <th>P</th>\n",
       "      <td>1.0</td>\n",
       "    </tr>\n",
       "    <tr>\n",
       "      <th>Q</th>\n",
       "      <td>1.0</td>\n",
       "    </tr>\n",
       "    <tr>\n",
       "      <th>R</th>\n",
       "      <td>1.0</td>\n",
       "    </tr>\n",
       "    <tr>\n",
       "      <th>S</th>\n",
       "      <td>1.0</td>\n",
       "    </tr>\n",
       "    <tr>\n",
       "      <th>T</th>\n",
       "      <td>1.0</td>\n",
       "    </tr>\n",
       "    <tr>\n",
       "      <th>U</th>\n",
       "      <td>1.0</td>\n",
       "    </tr>\n",
       "    <tr>\n",
       "      <th>V</th>\n",
       "      <td>1.0</td>\n",
       "    </tr>\n",
       "    <tr>\n",
       "      <th>W</th>\n",
       "      <td>1.0</td>\n",
       "    </tr>\n",
       "    <tr>\n",
       "      <th>X</th>\n",
       "      <td>1.0</td>\n",
       "    </tr>\n",
       "    <tr>\n",
       "      <th>Y</th>\n",
       "      <td>1.0</td>\n",
       "    </tr>\n",
       "    <tr>\n",
       "      <th>Z</th>\n",
       "      <td>1.0</td>\n",
       "    </tr>\n",
       "  </tbody>\n",
       "</table>\n",
       "</div>"
      ],
      "text/plain": [
       "   weights\n",
       "A      1.0\n",
       "B      1.0\n",
       "C      1.0\n",
       "D      1.0\n",
       "E      1.0\n",
       "F      1.0\n",
       "G      1.0\n",
       "H      1.0\n",
       "I      1.0\n",
       "J      1.0\n",
       "K      1.0\n",
       "L      1.0\n",
       "M      1.0\n",
       "N      1.0\n",
       "O      1.0\n",
       "P      1.0\n",
       "Q      1.0\n",
       "R      1.0\n",
       "S      1.0\n",
       "T      1.0\n",
       "U      1.0\n",
       "V      1.0\n",
       "W      1.0\n",
       "X      1.0\n",
       "Y      1.0\n",
       "Z      1.0"
      ]
     },
     "execution_count": 134,
     "metadata": {},
     "output_type": "execute_result"
    }
   ],
   "source": [
    "alpharr=np.array(['A','B','C','D','E','F','G','H','I','J','K','L','M',\n",
    "                  'N','O','P','Q','R','S','T','U','V','W','X','Y','Z'])\n",
    "alphaDie=Die(alpharr)\n",
    "alphaDie.current_state()"
   ]
  },
  {
   "cell_type": "code",
   "execution_count": 136,
   "id": "b0ceb771-3cdf-4d8f-8c2c-020806bbb909",
   "metadata": {},
   "outputs": [
    {
     "name": "stdout",
     "output_type": "stream",
     "text": [
      "       weights\n",
      "A  374061888.0\n",
      "B   70195826.0\n",
      "C  138416451.0\n",
      "D  169330528.0\n",
      "E  529117365.0\n",
      "F   95422055.0\n",
      "G   91258980.0\n",
      "H  216768975.0\n",
      "I  320410057.0\n",
      "J    9613410.0\n",
      "K   35373464.0\n",
      "L  183996130.0\n",
      "M  110504544.0\n",
      "N  313720540.0\n",
      "O  326627740.0\n",
      "P   90376747.0\n",
      "Q    4550166.0\n",
      "R  277000841.0\n",
      "S  294300210.0\n",
      "T  390965105.0\n",
      "U  117295780.0\n",
      "V   46337161.0\n",
      "W   79843664.0\n",
      "X    8369915.0\n",
      "Y   75294515.0\n",
      "Z    4975847.0\n"
     ]
    }
   ],
   "source": [
    "for j in 'ABCDEFGHIJKLMNOPQRSTUVWXYZ':\n",
    "    #lphadf.loc[j]\n",
    "    alphaDie.change_weights(j,alphadf.loc[j,1])\n",
    "print(alphaDie.current_state())    "
   ]
  },
  {
   "cell_type": "markdown",
   "id": "88e2e14a-6223-470a-a2c8-bca1120d7a5b",
   "metadata": {},
   "source": [
    "Task 2. Play a game involving $4$ of these dice with $1000$ rolls.\n",
    "\n",
    "- Game play method properly called (1)."
   ]
  },
  {
   "cell_type": "code",
   "execution_count": 138,
   "id": "2ae087cc-936d-4f1e-bddb-a7c179d139e0",
   "metadata": {},
   "outputs": [
    {
     "data": {
      "text/html": [
       "<div>\n",
       "<style scoped>\n",
       "    .dataframe tbody tr th:only-of-type {\n",
       "        vertical-align: middle;\n",
       "    }\n",
       "\n",
       "    .dataframe tbody tr th {\n",
       "        vertical-align: top;\n",
       "    }\n",
       "\n",
       "    .dataframe thead th {\n",
       "        text-align: right;\n",
       "    }\n",
       "</style>\n",
       "<table border=\"1\" class=\"dataframe\">\n",
       "  <thead>\n",
       "    <tr style=\"text-align: right;\">\n",
       "      <th></th>\n",
       "      <th>die1</th>\n",
       "      <th>die2</th>\n",
       "      <th>die3</th>\n",
       "      <th>die4</th>\n",
       "    </tr>\n",
       "    <tr>\n",
       "      <th>rollnumber</th>\n",
       "      <th></th>\n",
       "      <th></th>\n",
       "      <th></th>\n",
       "      <th></th>\n",
       "    </tr>\n",
       "  </thead>\n",
       "  <tbody>\n",
       "    <tr>\n",
       "      <th>roll1</th>\n",
       "      <td>U</td>\n",
       "      <td>X</td>\n",
       "      <td>J</td>\n",
       "      <td>G</td>\n",
       "    </tr>\n",
       "    <tr>\n",
       "      <th>roll2</th>\n",
       "      <td>V</td>\n",
       "      <td>R</td>\n",
       "      <td>Y</td>\n",
       "      <td>V</td>\n",
       "    </tr>\n",
       "    <tr>\n",
       "      <th>roll3</th>\n",
       "      <td>C</td>\n",
       "      <td>F</td>\n",
       "      <td>N</td>\n",
       "      <td>S</td>\n",
       "    </tr>\n",
       "    <tr>\n",
       "      <th>roll4</th>\n",
       "      <td>N</td>\n",
       "      <td>G</td>\n",
       "      <td>K</td>\n",
       "      <td>I</td>\n",
       "    </tr>\n",
       "    <tr>\n",
       "      <th>roll5</th>\n",
       "      <td>R</td>\n",
       "      <td>I</td>\n",
       "      <td>P</td>\n",
       "      <td>E</td>\n",
       "    </tr>\n",
       "    <tr>\n",
       "      <th>...</th>\n",
       "      <td>...</td>\n",
       "      <td>...</td>\n",
       "      <td>...</td>\n",
       "      <td>...</td>\n",
       "    </tr>\n",
       "    <tr>\n",
       "      <th>roll996</th>\n",
       "      <td>R</td>\n",
       "      <td>T</td>\n",
       "      <td>J</td>\n",
       "      <td>P</td>\n",
       "    </tr>\n",
       "    <tr>\n",
       "      <th>roll997</th>\n",
       "      <td>S</td>\n",
       "      <td>D</td>\n",
       "      <td>A</td>\n",
       "      <td>X</td>\n",
       "    </tr>\n",
       "    <tr>\n",
       "      <th>roll998</th>\n",
       "      <td>Q</td>\n",
       "      <td>N</td>\n",
       "      <td>V</td>\n",
       "      <td>O</td>\n",
       "    </tr>\n",
       "    <tr>\n",
       "      <th>roll999</th>\n",
       "      <td>O</td>\n",
       "      <td>J</td>\n",
       "      <td>F</td>\n",
       "      <td>Q</td>\n",
       "    </tr>\n",
       "    <tr>\n",
       "      <th>roll1000</th>\n",
       "      <td>J</td>\n",
       "      <td>C</td>\n",
       "      <td>E</td>\n",
       "      <td>U</td>\n",
       "    </tr>\n",
       "  </tbody>\n",
       "</table>\n",
       "<p>1000 rows × 4 columns</p>\n",
       "</div>"
      ],
      "text/plain": [
       "           die1 die2 die3 die4\n",
       "rollnumber                    \n",
       "roll1         U    X    J    G\n",
       "roll2         V    R    Y    V\n",
       "roll3         C    F    N    S\n",
       "roll4         N    G    K    I\n",
       "roll5         R    I    P    E\n",
       "...         ...  ...  ...  ...\n",
       "roll996       R    T    J    P\n",
       "roll997       S    D    A    X\n",
       "roll998       Q    N    V    O\n",
       "roll999       O    J    F    Q\n",
       "roll1000      J    C    E    U\n",
       "\n",
       "[1000 rows x 4 columns]"
      ]
     },
     "execution_count": 138,
     "metadata": {},
     "output_type": "execute_result"
    }
   ],
   "source": [
    "list=[alphaDie,alphaDie,alphaDie,alphaDie]\n",
    "g5=Game(list)\n",
    "g5.play(1000)\n",
    "g5.show_game_result(format='wide')"
   ]
  },
  {
   "cell_type": "markdown",
   "id": "3b9ff800-bf1f-4f66-9d7f-ff57a648e9f0",
   "metadata": {},
   "source": [
    "Task 3. Determine how many permutations in your results are actual English words, based on the vocabulary found in `scrabble_words.txt`.\n",
    "\n",
    "- Use permutation method (1).\n",
    "- Get count as difference between permutations and vocabulary (1)."
   ]
  },
  {
   "cell_type": "code",
   "execution_count": 140,
   "id": "b3eb2795-50a1-4b54-bac3-181940630afa",
   "metadata": {
    "tags": []
   },
   "outputs": [],
   "source": [
    "analyzer5=Analyzer(g5)\n",
    "permdf=analyzer5.permutation_count()\n",
    "newdf=permdf.reset_index()\n",
    "newdf['concatcol']=newdf[['die1','die2','die3','die4']].apply(lambda x:x.die1+x.die2+x.die3+x.die4,axis=1)\n",
    "newdfset=set(newdf['concatcol'].values.tolist())\n",
    "\n"
   ]
  },
  {
   "cell_type": "code",
   "execution_count": 156,
   "id": "2ba98532-8599-4312-8662-9d697ca55485",
   "metadata": {
    "tags": []
   },
   "outputs": [
    {
     "name": "stdout",
     "output_type": "stream",
     "text": [
      "{'ICHS', 'AUNE', 'SAIS', 'ZZZS', 'AWRY', 'SORE', 'WADT', 'APTS'}\n"
     ]
    },
    {
     "data": {
      "text/plain": [
       "8"
      ]
     },
     "execution_count": 156,
     "metadata": {},
     "output_type": "execute_result"
    }
   ],
   "source": [
    "scrabbledf=pd.read_table('./scrabble_words.txt',header=None)\n",
    "scrabbleset=set(scrabbledf[0].values.tolist())\n",
    "print(scrabbleset.intersection(newdfset))\n",
    "len(scrabbleset.intersection(newdfset))\n"
   ]
  },
  {
   "cell_type": "markdown",
   "id": "fcf068cf-381a-4b3e-ac3a-0510eb4dbdb0",
   "metadata": {},
   "source": [
    "Task 4. Repeat steps #2 and #3, this time with $5$ dice. How many actual words does this produce? Which produces more?\n",
    "\n",
    "- Successfully repreats steps (1).\n",
    "- Identifies parameter with most found words (1)."
   ]
  },
  {
   "cell_type": "code",
   "execution_count": 158,
   "id": "e3198f94-635b-4304-88e9-bfcea5d0cf5a",
   "metadata": {},
   "outputs": [
    {
     "name": "stdout",
     "output_type": "stream",
     "text": [
      "{'ESPY', 'JAPS', 'DIVO', 'RONG', 'FYLE', 'ACAI', 'MONG', 'YAGI', 'UNAI', 'GINK', 'SPIE', 'BOTS', 'BOLD', 'TURM', 'TROP'}\n",
      "15\n",
      "5 die option produces more words compared to previous option with 4 die\n"
     ]
    }
   ],
   "source": [
    "list=[alphaDie,alphaDie,alphaDie,alphaDie,alphaDie]\n",
    "g6=Game(list)\n",
    "g6.play(1000)\n",
    "g6.show_game_result(format='wide')\n",
    "analyzer6=Analyzer(g6)\n",
    "permdf=analyzer6.permutation_count()\n",
    "newdf=permdf.reset_index()\n",
    "newdf['concatcol']=newdf[['die1','die2','die3','die4','die5']].apply(lambda x:x.die1+x.die2+x.die3+x.die4,axis=1)\n",
    "newdfset=set(newdf['concatcol'].values.tolist())\n",
    "scrabbledf=pd.read_table('./scrabble_words.txt',header=None)\n",
    "scrabbleset=set(scrabbledf[0].values.tolist())\n",
    "print(scrabbleset.intersection(newdfset))\n",
    "print(len(scrabbleset.intersection(newdfset)))\n",
    "print(\"5 die option produces more words compared to previous option with 4 die\")"
   ]
  },
  {
   "cell_type": "markdown",
   "id": "c278a60d-a4dd-48df-8317-650185f7f0ca",
   "metadata": {},
   "source": [
    "# Submission"
   ]
  },
  {
   "cell_type": "markdown",
   "id": "a2b34ea0-96d3-4e0a-ac65-00a1cf287008",
   "metadata": {},
   "source": [
    "When finished completing the above tasks, save this file to your local repo (and within your project), and them push it to your GitHub repo.\n",
    "\n",
    "Then convert this file to a PDF and submit it to GradeScope according to the assignment instructions in Canvas."
   ]
  }
 ],
 "metadata": {
  "kernelspec": {
   "display_name": "Python 3 (ipykernel)",
   "language": "python",
   "name": "python3"
  },
  "language_info": {
   "codemirror_mode": {
    "name": "ipython",
    "version": 3
   },
   "file_extension": ".py",
   "mimetype": "text/x-python",
   "name": "python",
   "nbconvert_exporter": "python",
   "pygments_lexer": "ipython3",
   "version": "3.11.5"
  },
  "toc-autonumbering": true,
  "widgets": {
   "application/vnd.jupyter.widget-state+json": {
    "state": {},
    "version_major": 2,
    "version_minor": 0
   }
  }
 },
 "nbformat": 4,
 "nbformat_minor": 5
}
